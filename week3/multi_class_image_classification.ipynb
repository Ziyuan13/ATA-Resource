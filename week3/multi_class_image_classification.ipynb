{
  "nbformat": 4,
  "nbformat_minor": 0,
  "metadata": {
    "accelerator": "GPU",
    "colab": {
      "name": "multi-class-image-classification.ipynb",
      "provenance": [],
      "collapsed_sections": [],
      "include_colab_link": true
    },
    "kernelspec": {
      "display_name": "Python3.8 (tf2env)",
      "language": "python",
      "name": "tf2env"
    },
    "language_info": {
      "codemirror_mode": {
        "name": "ipython",
        "version": 3
      },
      "file_extension": ".py",
      "mimetype": "text/x-python",
      "name": "python",
      "nbconvert_exporter": "python",
      "pygments_lexer": "ipython3",
      "version": "3.8.3"
    }
  },
  "cells": [
    {
      "cell_type": "markdown",
      "metadata": {
        "id": "view-in-github",
        "colab_type": "text"
      },
      "source": [
        "<a href=\"https://colab.research.google.com/github/xCosmicx/ATA/blob/main/week3/multi_class_image_classification.ipynb\" target=\"_parent\"><img src=\"https://colab.research.google.com/assets/colab-badge.svg\" alt=\"Open In Colab\"/></a>"
      ]
    },
    {
      "cell_type": "markdown",
      "metadata": {
        "id": "0RZIgnFFEv5t"
      },
      "source": [
        "# Lab Exercise: Multi-class Image Classification\n",
        "\n",
        "Now that you have learnt how to train a model to do binary image classification of cats and dogs using Convolutional Neural Network. \n",
        "\n",
        "Modify the code to train a model to recognise whether a hand gesture is one of the gesture in the rock, paper and scissor game. \n",
        "\n",
        "The dataset of rock paper scissor can be downloaded from https://nypai.s3-ap-southeast-1.amazonaws.com/datasets/rps2.zip"
      ]
    },
    {
      "cell_type": "markdown",
      "metadata": {
        "id": "22qK2vQiEqgB"
      },
      "source": [
        "### Step 1: Import the necessary packages"
      ]
    },
    {
      "cell_type": "code",
      "metadata": {
        "id": "E0Widz3qoiVr"
      },
      "source": [
        "import os\n",
        "import tensorflow as tf\n",
        "import keras as keras\n",
        "from keras.preprocessing.image import ImageDataGenerator\n",
        "from keras import layers\n",
        "from keras import models\n",
        "from tensorflow.keras import optimizers\n",
        "import matplotlib.pyplot as plt\n",
        "import numpy as np"
      ],
      "execution_count": 11,
      "outputs": []
    },
    {
      "cell_type": "markdown",
      "metadata": {
        "id": "iKGTrOeiEzmP"
      },
      "source": [
        "### Step 2: Download Datasets\n",
        "\n",
        "Download the dataset and unzip the file to a folder."
      ]
    },
    {
      "cell_type": "code",
      "metadata": {
        "id": "YH_eNtAbn78U",
        "outputId": "5e151480-afb1-4cb0-ca03-4baf27f2ef5c",
        "colab": {
          "base_uri": "https://localhost:8080/"
        }
      },
      "source": [
        "dataset_URL = 'https://nypai.s3-ap-southeast-1.amazonaws.com/datasets/rps2.zip'\n",
        "path_to_zip = tf.keras.utils.get_file('rps2.zip', origin=dataset_URL, extract=True, cache_dir='.')\n",
        "print(path_to_zip)\n",
        "PATH = os.path.join(os.path.dirname(path_to_zip), 'rps2')\n",
        "print(PATH)\n"
      ],
      "execution_count": 3,
      "outputs": [
        {
          "output_type": "stream",
          "name": "stdout",
          "text": [
            "Downloading data from https://nypai.s3-ap-southeast-1.amazonaws.com/datasets/rps2.zip\n",
            "230342656/230335488 [==============================] - 17s 0us/step\n",
            "230350848/230335488 [==============================] - 17s 0us/step\n",
            "./datasets/rps2.zip\n",
            "./datasets/rps2\n"
          ]
        }
      ]
    },
    {
      "cell_type": "markdown",
      "metadata": {
        "id": "qcaiLftXEONn"
      },
      "source": [
        "### Step 3: Set up your train and validation directory. \n",
        "\n",
        "Examine your dataset folder and set your train_dir and validation_dir to point to the correct directories."
      ]
    },
    {
      "cell_type": "code",
      "metadata": {
        "id": "9N0WuIbxwJGb"
      },
      "source": [
        "train_dir = os.path.join(PATH, 'train')\n",
        "validation_dir = os.path.join(PATH, 'validation')"
      ],
      "execution_count": 4,
      "outputs": []
    },
    {
      "cell_type": "markdown",
      "metadata": {
        "id": "Jk2edwW2FJ1d"
      },
      "source": [
        "### Step 4: Set up the  tf.keras.preprocessing.image_dataset_from_directory()\n",
        "\n",
        "Set up the  tf.keras.preprocessing.image_dataset_from_directory() for both train and validation set."
      ]
    },
    {
      "cell_type": "code",
      "metadata": {
        "id": "c5-bXiSWoFtW",
        "outputId": "c6300d1d-3163-47b0-bb59-fdfc41ba34db",
        "colab": {
          "base_uri": "https://localhost:8080/"
        }
      },
      "source": [
        "# All images will be rescaled by 1./255\n",
        "# 255 * 1/255 = (255X1)/255\n",
        "train_datagen = ImageDataGenerator(rescale=1./255)\n",
        "validation_datagen = ImageDataGenerator(rescale=1./255)\n",
        "\n",
        "train_generator = train_datagen.flow_from_directory(\n",
        "# This is the target directory\n",
        "train_dir,\n",
        "# All images will be resized to 150x150\n",
        "target_size=(150, 150),\n",
        "batch_size=20,\n",
        "class_mode='sparse')\n",
        "\n",
        "validation_generator = validation_datagen.flow_from_directory(\n",
        "    validation_dir,\n",
        "    target_size=(150, 150),\n",
        "    batch_size=20,\n",
        "    class_mode='sparse')"
      ],
      "execution_count": 6,
      "outputs": [
        {
          "output_type": "stream",
          "name": "stdout",
          "text": [
            "Found 2520 images belonging to 3 classes.\n",
            "Found 372 images belonging to 3 classes.\n"
          ]
        }
      ]
    },
    {
      "cell_type": "code",
      "source": [
        "for data_batch, labels_batch in train_generator:\n",
        "  print('data batch shape:', data_batch.shape)\n",
        "  print('labels batch shape:', labels_batch.shape)\n",
        "  break"
      ],
      "metadata": {
        "id": "Sw3j8Jb2qvO_",
        "outputId": "e44737d5-80c3-4fba-885d-6d739f8ae645",
        "colab": {
          "base_uri": "https://localhost:8080/"
        }
      },
      "execution_count": 7,
      "outputs": [
        {
          "output_type": "stream",
          "name": "stdout",
          "text": [
            "data batch shape: (20, 150, 150, 3)\n",
            "labels batch shape: (20,)\n"
          ]
        }
      ]
    },
    {
      "cell_type": "markdown",
      "metadata": {
        "id": "BpaO7BJVxkAO"
      },
      "source": [
        "You can see the labels is **NOT** one-hot-encoded.  Try changing the class_mode to 'categorical' and observe that the label will be one-hot-encoded."
      ]
    },
    {
      "cell_type": "markdown",
      "metadata": {
        "id": "IrSOVvwfFpcz"
      },
      "source": [
        "Print out the class indices so that you know what label is assigned to which class.  Hint: use ``class_indices`` of the generator."
      ]
    },
    {
      "cell_type": "code",
      "metadata": {
        "id": "OPs--CSYvpmT",
        "outputId": "27131e01-28fe-4c83-d274-4217a7a6f960",
        "colab": {
          "base_uri": "https://localhost:8080/"
        }
      },
      "source": [
        "labels_batch[:1]"
      ],
      "execution_count": 8,
      "outputs": [
        {
          "output_type": "execute_result",
          "data": {
            "text/plain": [
              "array([1.], dtype=float32)"
            ]
          },
          "metadata": {},
          "execution_count": 8
        }
      ]
    },
    {
      "cell_type": "code",
      "source": [
        "train_generator.class_indices"
      ],
      "metadata": {
        "id": "ImsqAeB_rI75",
        "outputId": "f08159ca-d1a5-4a5c-cf73-dcc904a0dcab",
        "colab": {
          "base_uri": "https://localhost:8080/"
        }
      },
      "execution_count": 9,
      "outputs": [
        {
          "output_type": "execute_result",
          "data": {
            "text/plain": [
              "{'paper': 0, 'rock': 1, 'scissors': 2}"
            ]
          },
          "metadata": {},
          "execution_count": 9
        }
      ]
    },
    {
      "cell_type": "markdown",
      "metadata": {
        "id": "S4kbK7XpGLYc"
      },
      "source": [
        "### Step 5: Create your model"
      ]
    },
    {
      "cell_type": "code",
      "metadata": {
        "id": "8ZCiZLK9vupW"
      },
      "source": [
        "model = models.Sequential()\n",
        "model.add(layers.Conv2D(32, (3, 3), activation='relu', input_shape=(150, 150, 3)))\n",
        "model.add(layers.MaxPooling2D((2, 2)))\n",
        "model.add(layers.Conv2D(64, (3, 3), activation='relu'))\n",
        "model.add(layers.MaxPooling2D((2, 2)))\n",
        "model.add(layers.Conv2D(128, (3, 3), activation='relu'))\n",
        "model.add(layers.MaxPooling2D((2, 2)))\n",
        "model.add(layers.Conv2D(128, (3, 3), activation='relu'))\n",
        "model.add(layers.MaxPooling2D((2, 2)))\n",
        "model.add(layers.Flatten())\n",
        "model.add(layers.Dropout(0.5))\n",
        "model.add(layers.Dense(512, activation='relu'))\n",
        "model.add(layers.Dense(3, activation='softmax'))"
      ],
      "execution_count": null,
      "outputs": []
    },
    {
      "cell_type": "markdown",
      "metadata": {
        "id": "G2It5kjbGZA0"
      },
      "source": [
        "### Step 6: Compile and Train the Model\n",
        "\n",
        "Make sure you choose the correct loss function. "
      ]
    },
    {
      "cell_type": "code",
      "source": [
        "model.compile(loss='sparse_categorical_crossentropy', \n",
        "              optimizer=optimizers.RMSprop(lr=1e-4),\n",
        "              metrics=['acc'])"
      ],
      "metadata": {
        "id": "KyoNjR-orQ3T",
        "outputId": "0257be14-4788-4382-9ffb-aa50408f326b",
        "colab": {
          "base_uri": "https://localhost:8080/"
        }
      },
      "execution_count": 12,
      "outputs": [
        {
          "output_type": "stream",
          "name": "stderr",
          "text": [
            "/usr/local/lib/python3.7/dist-packages/keras/optimizer_v2/rmsprop.py:130: UserWarning: The `lr` argument is deprecated, use `learning_rate` instead.\n",
            "  super(RMSprop, self).__init__(name, **kwargs)\n"
          ]
        }
      ]
    },
    {
      "cell_type": "code",
      "source": [
        "history = model.fit(\n",
        "    train_generator,\n",
        "    steps_per_epoch=126,\n",
        "    epochs=30,\n",
        "    validation_data=validation_generator,\n",
        "    validation_steps=18)"
      ],
      "metadata": {
        "id": "BnYykuxkrxYJ",
        "outputId": "88e26be6-89e7-4a2a-a9d6-a956c6db5a7c",
        "colab": {
          "base_uri": "https://localhost:8080/"
        }
      },
      "execution_count": 13,
      "outputs": [
        {
          "output_type": "stream",
          "name": "stdout",
          "text": [
            "Epoch 1/30\n",
            "126/126 [==============================] - 23s 102ms/step - loss: 0.6449 - acc: 0.7278 - val_loss: 0.4795 - val_acc: 0.7972\n",
            "Epoch 2/30\n",
            "126/126 [==============================] - 13s 102ms/step - loss: 0.1047 - acc: 0.9722 - val_loss: 0.3116 - val_acc: 0.8917\n",
            "Epoch 3/30\n",
            "126/126 [==============================] - 14s 112ms/step - loss: 0.0332 - acc: 0.9921 - val_loss: 0.2331 - val_acc: 0.9500\n",
            "Epoch 4/30\n",
            "126/126 [==============================] - 14s 111ms/step - loss: 0.0112 - acc: 0.9968 - val_loss: 0.2132 - val_acc: 0.9611\n",
            "Epoch 5/30\n",
            "126/126 [==============================] - 13s 102ms/step - loss: 0.0059 - acc: 0.9976 - val_loss: 0.2459 - val_acc: 0.9333\n",
            "Epoch 6/30\n",
            "126/126 [==============================] - 14s 112ms/step - loss: 0.0019 - acc: 0.9996 - val_loss: 0.2672 - val_acc: 0.9111\n",
            "Epoch 7/30\n",
            "126/126 [==============================] - 13s 101ms/step - loss: 0.0023 - acc: 0.9988 - val_loss: 0.4269 - val_acc: 0.8528\n",
            "Epoch 8/30\n",
            "126/126 [==============================] - 16s 128ms/step - loss: 0.0012 - acc: 0.9996 - val_loss: 0.3665 - val_acc: 0.9000\n",
            "Epoch 9/30\n",
            "126/126 [==============================] - 13s 101ms/step - loss: 0.0021 - acc: 0.9992 - val_loss: 0.3682 - val_acc: 0.8694\n",
            "Epoch 10/30\n",
            "126/126 [==============================] - 13s 101ms/step - loss: 7.1865e-04 - acc: 1.0000 - val_loss: 0.2516 - val_acc: 0.9222\n",
            "Epoch 11/30\n",
            "126/126 [==============================] - 16s 128ms/step - loss: 9.3975e-04 - acc: 1.0000 - val_loss: 0.4181 - val_acc: 0.8917\n",
            "Epoch 12/30\n",
            "126/126 [==============================] - 14s 110ms/step - loss: 1.2739e-04 - acc: 1.0000 - val_loss: 0.7592 - val_acc: 0.8611\n",
            "Epoch 13/30\n",
            "126/126 [==============================] - 13s 101ms/step - loss: 2.0468e-04 - acc: 1.0000 - val_loss: 0.5117 - val_acc: 0.8639\n",
            "Epoch 14/30\n",
            "126/126 [==============================] - 13s 101ms/step - loss: 6.6596e-06 - acc: 1.0000 - val_loss: 0.4899 - val_acc: 0.8833\n",
            "Epoch 15/30\n",
            "126/126 [==============================] - 13s 102ms/step - loss: 4.6698e-05 - acc: 1.0000 - val_loss: 0.5459 - val_acc: 0.9083\n",
            "Epoch 16/30\n",
            "126/126 [==============================] - 14s 115ms/step - loss: 6.2464e-04 - acc: 0.9996 - val_loss: 0.5898 - val_acc: 0.8972\n",
            "Epoch 17/30\n",
            "126/126 [==============================] - 13s 100ms/step - loss: 6.0456e-05 - acc: 1.0000 - val_loss: 0.6058 - val_acc: 0.8889\n",
            "Epoch 18/30\n",
            "126/126 [==============================] - 14s 109ms/step - loss: 1.0148e-06 - acc: 1.0000 - val_loss: 0.4813 - val_acc: 0.9194\n",
            "Epoch 19/30\n",
            "126/126 [==============================] - 14s 110ms/step - loss: 1.6312e-05 - acc: 1.0000 - val_loss: 0.4377 - val_acc: 0.9028\n",
            "Epoch 20/30\n",
            "126/126 [==============================] - 14s 114ms/step - loss: 5.5319e-05 - acc: 1.0000 - val_loss: 0.7387 - val_acc: 0.8528\n",
            "Epoch 21/30\n",
            "126/126 [==============================] - 15s 119ms/step - loss: 6.3120e-05 - acc: 1.0000 - val_loss: 0.5513 - val_acc: 0.9250\n",
            "Epoch 22/30\n",
            "126/126 [==============================] - 14s 110ms/step - loss: 2.5486e-07 - acc: 1.0000 - val_loss: 0.7805 - val_acc: 0.8750\n",
            "Epoch 23/30\n",
            "126/126 [==============================] - 13s 100ms/step - loss: 1.1709e-05 - acc: 1.0000 - val_loss: 0.4845 - val_acc: 0.9083\n",
            "Epoch 24/30\n",
            "126/126 [==============================] - 13s 102ms/step - loss: 1.2649e-07 - acc: 1.0000 - val_loss: 0.6494 - val_acc: 0.9083\n",
            "Epoch 25/30\n",
            "126/126 [==============================] - 13s 99ms/step - loss: 1.5927e-07 - acc: 1.0000 - val_loss: 0.6116 - val_acc: 0.9000\n",
            "Epoch 26/30\n",
            "126/126 [==============================] - 13s 99ms/step - loss: 3.8859e-05 - acc: 1.0000 - val_loss: 0.5258 - val_acc: 0.9250\n",
            "Epoch 27/30\n",
            "126/126 [==============================] - 13s 99ms/step - loss: 1.5420e-07 - acc: 1.0000 - val_loss: 0.6416 - val_acc: 0.8806\n",
            "Epoch 28/30\n",
            "126/126 [==============================] - 14s 110ms/step - loss: 1.3315e-05 - acc: 1.0000 - val_loss: 0.9617 - val_acc: 0.9167\n",
            "Epoch 29/30\n",
            "126/126 [==============================] - 13s 100ms/step - loss: 1.7219e-08 - acc: 1.0000 - val_loss: 0.6598 - val_acc: 0.9194\n",
            "Epoch 30/30\n",
            "126/126 [==============================] - 13s 100ms/step - loss: 8.1836e-08 - acc: 1.0000 - val_loss: 0.8794 - val_acc: 0.9083\n"
          ]
        }
      ]
    },
    {
      "cell_type": "markdown",
      "metadata": {
        "id": "1wkt7heeK2aj"
      },
      "source": [
        "Visualize your training using Tensorboard."
      ]
    },
    {
      "cell_type": "code",
      "metadata": {
        "id": "vOXpmCBGI8Ql",
        "outputId": "68fdeb4e-0c99-4ff4-b8af-fe82fe7591c5",
        "colab": {
          "base_uri": "https://localhost:8080/",
          "height": 545
        }
      },
      "source": [
        "acc = history.history['acc']\n",
        "val_acc = history.history['val_acc']\n",
        "loss = history.history['loss']\n",
        "val_loss = history.history['val_loss']\n",
        "\n",
        "epochs = range(len(acc))\n",
        "\n",
        "plt.plot(epochs, acc, 'bo', label='Training acc')\n",
        "plt.plot(epochs, val_acc, 'b', label='Validation acc')\n",
        "plt.title('Training and validation accuracy')\n",
        "plt.legend ()\n",
        "\n",
        "plt.figure()\n",
        "\n",
        "plt.plot (epochs, loss, 'bo', label='Training loss')\n",
        "plt.plot (epochs, val_loss, 'b', label='Validation loss')\n",
        "plt.title('Training and validation loss')\n",
        "plt.legend()\n",
        "\n",
        "plt.show()"
      ],
      "execution_count": 14,
      "outputs": [
        {
          "output_type": "display_data",
          "data": {
            "text/plain": [
              "<Figure size 432x288 with 1 Axes>"
            ],
            "image/png": "[encoded data removed]"
          },
          "metadata": {
            "needs_background": "light"
          }
        },
        {
          "output_type": "display_data",
          "data": {
            "text/plain": [
              "<Figure size 432x288 with 1 Axes>"
            ],
            "image/png": "[encoded data removed]"
          },
          "metadata": {
            "needs_background": "light"
          }
        }
      ]
    },
    {
      "cell_type": "markdown",
      "metadata": {
        "id": "4i3Z8WIQJLi1"
      },
      "source": [
        "### Step 7: Save your Model\n",
        "\n",
        "Save your model for use in inference later on."
      ]
    },
    {
      "cell_type": "code",
      "metadata": {
        "id": "PprYt9Sz0oUM",
        "outputId": "75fe04f0-a478-4ec0-f536-cfcad5ea4771",
        "colab": {
          "base_uri": "https://localhost:8080/"
        }
      },
      "source": [
        "model.save(\"rps_model\")"
      ],
      "execution_count": 15,
      "outputs": [
        {
          "output_type": "stream",
          "name": "stdout",
          "text": [
            "INFO:tensorflow:Assets written to: rps_model/assets\n"
          ]
        }
      ]
    },
    {
      "cell_type": "markdown",
      "metadata": {
        "id": "TkWGYOK4HGBE"
      },
      "source": [
        "### Test your model\n",
        "\n",
        "The following code cells shows you how to set up Google Colab to take a picture using your webcam. Take a picture of your hand gesture (rock, paper or scissors) and infer using your saved model."
      ]
    },
    {
      "cell_type": "code",
      "metadata": {
        "id": "SWkCXDE70WiA"
      },
      "source": [
        "from IPython.display import display, Javascript\n",
        "from google.colab.output import eval_js\n",
        "from base64 import b64decode\n",
        "\n",
        "def take_photo(filename='photo.jpg', quality=0.8):\n",
        "  js = Javascript('''\n",
        "    async function takePhoto(quality) {\n",
        "      const div = document.createElement('div');\n",
        "      const capture = document.createElement('button');\n",
        "      capture.textContent = 'Capture';\n",
        "      div.appendChild(capture);\n",
        "\n",
        "      const video = document.createElement('video');\n",
        "      video.style.display = 'block';\n",
        "      const stream = await navigator.mediaDevices.getUserMedia({video: true});\n",
        "\n",
        "      document.body.appendChild(div);\n",
        "      div.appendChild(video);\n",
        "      video.srcObject = stream;\n",
        "      await video.play();\n",
        "\n",
        "      // Resize the output to fit the video element.\n",
        "      google.colab.output.setIframeHeight(document.documentElement.scrollHeight, true);\n",
        "\n",
        "      // Wait for Capture to be clicked.\n",
        "      await new Promise((resolve) => capture.onclick = resolve);\n",
        "\n",
        "      const canvas = document.createElement('canvas');\n",
        "      canvas.width = video.videoWidth;\n",
        "      canvas.height = video.videoHeight;\n",
        "      canvas.getContext('2d').drawImage(video, 0, 0);\n",
        "      stream.getVideoTracks()[0].stop();\n",
        "      div.remove();\n",
        "      return canvas.toDataURL('image/jpeg', quality);\n",
        "    }\n",
        "    ''')\n",
        "  display(js)\n",
        "  data = eval_js('takePhoto({})'.format(quality))\n",
        "  binary = b64decode(data.split(',')[1])\n",
        "  with open(filename, 'wb') as f:\n",
        "    f.write(binary)\n",
        "  return filename"
      ],
      "execution_count": 16,
      "outputs": []
    },
    {
      "cell_type": "code",
      "metadata": {
        "id": "Qp5MYbtv0WiD",
        "outputId": "e1c772e3-5922-4f75-809b-f3f379703f9a",
        "colab": {
          "base_uri": "https://localhost:8080/",
          "height": 515
        }
      },
      "source": [
        "from IPython.display import Image\n",
        "try:\n",
        "  filename = take_photo()\n",
        "  print('Saved to {}'.format(filename))\n",
        "  \n",
        "  # Show the image which was just taken.\n",
        "  display(Image(filename))\n",
        "except Exception as err:\n",
        "  # Errors will be thrown if the user does not have a webcam or if they do not\n",
        "  # grant the page permission to access it.\n",
        "  print(str(err))"
      ],
      "execution_count": 17,
      "outputs": [
        {
          "output_type": "display_data",
          "data": {
            "text/plain": [
              "<IPython.core.display.Javascript object>"
            ],
            "application/javascript": [
              "\n",
              "    async function takePhoto(quality) {\n",
              "      const div = document.createElement('div');\n",
              "      const capture = document.createElement('button');\n",
              "      capture.textContent = 'Capture';\n",
              "      div.appendChild(capture);\n",
              "\n",
              "      const video = document.createElement('video');\n",
              "      video.style.display = 'block';\n",
              "      const stream = await navigator.mediaDevices.getUserMedia({video: true});\n",
              "\n",
              "      document.body.appendChild(div);\n",
              "      div.appendChild(video);\n",
              "      video.srcObject = stream;\n",
              "      await video.play();\n",
              "\n",
              "      // Resize the output to fit the video element.\n",
              "      google.colab.output.setIframeHeight(document.documentElement.scrollHeight, true);\n",
              "\n",
              "      // Wait for Capture to be clicked.\n",
              "      await new Promise((resolve) => capture.onclick = resolve);\n",
              "\n",
              "      const canvas = document.createElement('canvas');\n",
              "      canvas.width = video.videoWidth;\n",
              "      canvas.height = video.videoHeight;\n",
              "      canvas.getContext('2d').drawImage(video, 0, 0);\n",
              "      stream.getVideoTracks()[0].stop();\n",
              "      div.remove();\n",
              "      return canvas.toDataURL('image/jpeg', quality);\n",
              "    }\n",
              "    "
            ]
          },
          "metadata": {}
        },
        {
          "output_type": "stream",
          "name": "stdout",
          "text": [
            "Saved to photo.jpg\n"
          ]
        },
        {
          "output_type": "display_data",
          "data": {
            "text/plain": [
              "<IPython.core.display.Image object>"
            ],
            "image/jpeg": "[encoded data removed]"
          },
          "metadata": {}
        }
      ]
    },
    {
      "cell_type": "markdown",
      "metadata": {
        "id": "bGPl4D2XLDb3"
      },
      "source": [
        "Write code to read the image and reshape the tensor (to include batch axis) and use your model to predict the label."
      ]
    },
    {
      "cell_type": "code",
      "metadata": {
        "id": "jm3XARik0eT_",
        "outputId": "a7765fb7-7c9a-4b52-edd3-d0bf58befd6b",
        "colab": {
          "base_uri": "https://localhost:8080/"
        }
      },
      "source": [
        "img = keras.preprocessing.image.load_img(\n",
        "    filename, target_size=(150, 150)\n",
        ")\n",
        "\n",
        "# we convert the image to numpy array\n",
        "img_array = keras.preprocessing.image.img_to_array(img)\n",
        "\n",
        "# Although we only have single image, however our model expected data in batches\n",
        "# so we will need to add in the batch axis too\n",
        "img_array = tf.expand_dims(img_array, 0) # Create a batch\n",
        "\n",
        "# we load the model saved earlier and do the inference\n",
        "model = tf.keras.models.load_model('rps_model')\n",
        "predictions = model(img_array)\n",
        "label = np.argmax(predictions)"
      ],
      "execution_count": 18,
      "outputs": [
        {
          "output_type": "stream",
          "name": "stdout",
          "text": [
            "tf.Tensor([[0. 1. 0.]], shape=(1, 3), dtype=float32)\n",
            "1\n",
            "{'paper': 0, 'rock': 1, 'scissors': 2}\n"
          ]
        },
        {
          "output_type": "execute_result",
          "data": {
            "text/plain": [
              "array([[0., 1., 0.]], dtype=float32)"
            ]
          },
          "metadata": {},
          "execution_count": 18
        }
      ]
    },
    {
      "cell_type": "code",
      "source": [
        "print(predictions)"
      ],
      "metadata": {
        "id": "pUNKBfUHwNBi"
      },
      "execution_count": null,
      "outputs": []
    },
    {
      "cell_type": "code",
      "source": [
        "print(label)"
      ],
      "metadata": {
        "id": "cm4Dy0DOwO6e"
      },
      "execution_count": null,
      "outputs": []
    },
    {
      "cell_type": "code",
      "source": [
        "print(train_generator.class_indices)"
      ],
      "metadata": {
        "id": "7cXhezDpwQfm"
      },
      "execution_count": null,
      "outputs": []
    },
    {
      "cell_type": "code",
      "source": [
        "model.predict(img_array)"
      ],
      "metadata": {
        "id": "i4xTxUbvwS4q"
      },
      "execution_count": null,
      "outputs": []
    }
  ]
}